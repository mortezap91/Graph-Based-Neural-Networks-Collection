{
  "nbformat": 4,
  "nbformat_minor": 0,
  "metadata": {
    "colab": {
      "provenance": [],
      "gpuType": "T4"
    },
    "kernelspec": {
      "name": "python3",
      "display_name": "Python 3"
    },
    "language_info": {
      "name": "python"
    },
    "gpuClass": "standard"
  },
  "cells": [
    {
      "cell_type": "code",
      "execution_count": null,
      "metadata": {
        "colab": {
          "base_uri": "https://localhost:8080/"
        },
        "id": "Y6c1ctq_jdJe",
        "outputId": "d6ee946b-101c-4079-ea98-b8adf421f118"
      },
      "outputs": [
        {
          "output_type": "execute_result",
          "data": {
            "text/plain": [
              "torch.Size([18, 2])"
            ]
          },
          "metadata": {},
          "execution_count": 1
        }
      ],
      "source": [
        "import torch\n",
        "import torch.nn as nn\n",
        "import torch.nn.functional as F\n",
        "from torch.utils.data import Dataset, DataLoader\n",
        "from tqdm import tqdm\n",
        "from scipy.io import loadmat\n",
        "import numpy as np\n",
        "import matplotlib.pyplot as plt\n",
        "import os\n",
        "import torchaudio\n",
        "\n",
        "\n",
        "class GCNLayer(nn.Module):\n",
        "    def __init__(self, in_features, out_features, use_bias=True):\n",
        "        super(GCNLayer, self).__init__()\n",
        "        self.weight = nn.Parameter(torch.FloatTensor(torch.zeros(size=(in_features, out_features))))\n",
        "        if use_bias:\n",
        "            self.bias = nn.Parameter(torch.FloatTensor(torch.zeros(size=(out_features,))))\n",
        "        else:\n",
        "            self.register_parameter('bias', None)\n",
        "\n",
        "        self.initialize_weights()\n",
        "\n",
        "    def initialize_weights(self):\n",
        "        nn.init.xavier_uniform_(self.weight)\n",
        "        if self.bias is not None:\n",
        "            nn.init.zeros_(self.bias)\n",
        "\n",
        "    def forward(self, x, adj):\n",
        "\n",
        "        x = x @ self.weight\n",
        "        if self.bias is not None:\n",
        "            x += self.bias\n",
        "        return torch.sparse.mm(adj, x)\n",
        "\n",
        "\n",
        "class GCN(nn.Module):\n",
        "    def __init__(self, node_features, hidden_dim, num_classes, dropout, use_bias=True):\n",
        "        super(GCN, self).__init__()\n",
        "        self.gcn_1 = GCNLayer(node_features, hidden_dim, use_bias)\n",
        "        self.gcn_2 = GCNLayer(hidden_dim, num_classes, use_bias)\n",
        "        self.dropout = nn.Dropout(p=dropout)\n",
        "\n",
        "    def initialize_weights(self):\n",
        "        self.gcn_1.initialize_weights()\n",
        "        self.gcn_2.initialize_weights()\n",
        "\n",
        "    def forward(self, x, adj,Inside = True):\n",
        "      if Inside:\n",
        "        num_channels,sequence_length,features = x.size()\n",
        "        x_final = []\n",
        "        for ch in range (num_channels):\n",
        "          x1 = F.relu(self.gcn_1(x[ch], adj[ch]))\n",
        "          x1 = self.dropout(x1)\n",
        "          x1 = self.gcn_2(x1, adj[ch])\n",
        "          x_final.append(x1)\n",
        "        x_final = torch.stack(x_final).view(num_channels,sequence_length,-1)\n",
        "        return x_final\n",
        "      else:\n",
        "        x1 = F.relu(self.gcn_1(x, adj))\n",
        "        x1 = self.dropout(x1)\n",
        "        x1 = self.gcn_2(x1, adj)\n",
        "        return x1\n",
        "\n",
        "x = torch.rand(18,240)\n",
        "ADJ = torch.rand(18,18)\n",
        "model = GCN(240,150,2,0.25)\n",
        "#model.initialize_weights()\n",
        "y = model(x,ADJ, False)\n",
        "y.shape"
      ]
    },
    {
      "cell_type": "code",
      "source": [
        "class GraphAttentionLayer(nn.Module):\n",
        "    \"\"\"\n",
        "    Simple GAT layer, similar to https://arxiv.org/abs/1710.10903\n",
        "    \"\"\"\n",
        "    def __init__(self, in_features, out_features, dropout, alpha, concat=True):\n",
        "        super(GraphAttentionLayer, self).__init__()\n",
        "        self.dropout = dropout\n",
        "        self.in_features = in_features\n",
        "        self.out_features = out_features\n",
        "        self.alpha = alpha\n",
        "        self.concat = concat\n",
        "\n",
        "        self.W = nn.Parameter(torch.empty(size=(in_features, out_features)))\n",
        "        nn.init.xavier_uniform_(self.W.data, gain=1.414)\n",
        "        self.a = nn.Parameter(torch.empty(size=(2*out_features, 1)))\n",
        "        nn.init.xavier_uniform_(self.a.data, gain=1.414)\n",
        "\n",
        "        self.leakyrelu = nn.LeakyReLU(self.alpha)\n",
        "\n",
        "    def forward(self, h, adj):\n",
        "        Wh = torch.mm(h, self.W) # h.shape: (N, in_features), Wh.shape: (N, out_features)\n",
        "        e = self._prepare_attentional_mechanism_input(Wh)\n",
        "        zero_vec = -9e15*torch.ones_like(e)\n",
        "        attention = torch.where(adj > 0, e, zero_vec)\n",
        "        attention = F.softmax(attention, dim=1)\n",
        "        attention = F.dropout(attention, self.dropout, training=self.training)\n",
        "        h_prime = torch.matmul(attention, Wh)\n",
        "\n",
        "        if self.concat:\n",
        "            return F.elu(h_prime)\n",
        "        else:\n",
        "            return h_prime\n",
        "\n",
        "    def _prepare_attentional_mechanism_input(self, Wh):\n",
        "        # Wh.shape (N, out_feature)\n",
        "        # self.a.shape (2 * out_feature, 1)\n",
        "        # Wh1&2.shape (N, 1)\n",
        "        # e.shape (N, N)\n",
        "        Wh1 = torch.matmul(Wh, self.a[:self.out_features, :])\n",
        "        Wh2 = torch.matmul(Wh, self.a[self.out_features:, :])\n",
        "        # broadcast add\n",
        "        e = Wh1 + Wh2.T\n",
        "        return self.leakyrelu(e)\n",
        "\n",
        "    def __repr__(self):\n",
        "        return self.__class__.__name__ + ' (' + str(self.in_features) + ' -> ' + str(self.out_features) + ')'\n",
        "\n",
        "class GAT(nn.Module):\n",
        "    def __init__(self, nfeat, nhid, dropout, alpha, nheads):\n",
        "        \"\"\"Dense version of GAT.\"\"\"\n",
        "        super(GAT, self).__init__()\n",
        "        self.dropout = dropout\n",
        "\n",
        "        self.attentions = [GraphAttentionLayer(nfeat, nhid, dropout=dropout, alpha=alpha, concat=True) for _ in range(nheads)]\n",
        "        for i, attention in enumerate(self.attentions):\n",
        "            self.add_module('attention_{}'.format(i), attention)\n",
        "\n",
        "        #self.out_att = GraphAttentionLayer(nhid * nheads, nclass, dropout=dropout, alpha=alpha, concat=False)\n",
        "\n",
        "    def forward(self, x, adj,Inside = True):\n",
        "      if Inside:\n",
        "        num_channels,sequence_length,features = x.size()\n",
        "        X_Final = []\n",
        "        for ch in range(num_channels):\n",
        "          x1 = F.dropout(x[ch], self.dropout, training=self.training)\n",
        "          x1 = torch.cat([att(x1, adj[ch]) for att in self.attentions], dim=1)\n",
        "          x1 = F.dropout(x1, self.dropout, training=self.training)\n",
        "          x1 = F.elu(x1)\n",
        "          X_Final.append(x1)\n",
        "        X_Final = torch.stack(X_Final)\n",
        "        #x = F.elu(self.out_att(x, adj))\n",
        "        return X_Final #F.log_softmax(x, dim=1)\n",
        "      else :\n",
        "          num_channels,sequence_length,features = x.size()\n",
        "          x = x.view(num_channels,-1)\n",
        "          x1 = F.dropout(x, self.dropout, training=self.training)\n",
        "          x1 = torch.cat([att(x1, adj) for att in self.attentions], dim=1)\n",
        "          x1 = F.dropout(x1, self.dropout, training=self.training)\n",
        "          x1 = F.elu(x1)\n",
        "          return x1\n",
        "\n",
        "'''\n",
        "x = torch.rand(18,1280)\n",
        "ADJ = torch.rand(18,18)\n",
        "model = GAT(1280,20,.25,0.5,12)\n",
        "b = model(x,ADJ,False)\n",
        "print(b.shape)\n",
        "print(b)\n",
        "'''"
      ],
      "metadata": {
        "colab": {
          "base_uri": "https://localhost:8080/",
          "height": 53
        },
        "id": "ZoWnLHmDkI5t",
        "outputId": "85629504-936e-49f2-8134-a654c4bb6b8f"
      },
      "execution_count": null,
      "outputs": [
        {
          "output_type": "execute_result",
          "data": {
            "text/plain": [
              "'\\nx = torch.rand(18,1280)\\nADJ = torch.rand(18,18)\\nmodel = GAT(1280,20,.25,0.5,12)\\nb = model(x,ADJ,False)\\nprint(b.shape)\\nprint(b)\\n'"
            ],
            "application/vnd.google.colaboratory.intrinsic+json": {
              "type": "string"
            }
          },
          "metadata": {},
          "execution_count": 2
        }
      ]
    },
    {
      "cell_type": "markdown",
      "source": [
        "### Main Model"
      ],
      "metadata": {
        "id": "H0MO9IZkfVC9"
      }
    },
    {
      "cell_type": "code",
      "source": [
        "class MainModel(nn.Module):\n",
        "  def __init__(self,M,nfeat_inside, nfeat_outside,nhid_inside ,nhid_outside ,hidden_dim, num_classes_inside,num_classes_outside, dropout, alpha, nheads):\n",
        "    super (MainModel,self).__init__()\n",
        "\n",
        "    self.Attention_Network = GAT(nfeat_inside, nhid_inside, dropout, alpha, nheads)\n",
        "    self.GraphConv = GCN(nhid_inside*nheads, hidden_dim, num_classes_inside, dropout, use_bias=True)\n",
        "    self.GraphConv.initialize_weights()\n",
        "\n",
        "    self.Attention_Network1 = GAT(nfeat_outside, nhid_outside, dropout, alpha, nheads)\n",
        "    self.GraphConv1 = GCN(nhid_outside*nheads, hidden_dim, num_classes_outside, dropout, use_bias=True)\n",
        "    self.GraphConv1.initialize_weights()\n",
        "    self.Adj_out = nn.Parameter(torch.FloatTensor(torch.zeros(size=(18, 18))))\n",
        "\n",
        "    self.initialize_weights()\n",
        "    self.dropout = dropout\n",
        "    self.fc1 = nn.Linear(in_features=36, out_features=16)\n",
        "    self.fc2 = nn.Linear(in_features=16, out_features=1)\n",
        "    self.M = M\n",
        "    self.sigmoid = nn.Sigmoid()\n",
        "\n",
        "  def initialize_weights(self):\n",
        "      nn.init.xavier_uniform_(self.Adj_out)\n",
        "      #b = torch.diagonal(self.Adj_out,0)\n",
        "      #b.fill_(0)\n",
        "\n",
        "\n",
        "  def forward(self,x):\n",
        "\n",
        "    Feat_Vector = self.Feature_Vector(x,self. M)\n",
        "    Adj = self.Adjacency_Matrix(x,self.M)\n",
        "    Hidden_Feature = self.Attention_Network(Feat_Vector,Adj)\n",
        "    Hidden_Feature = self.GraphConv (Hidden_Feature,Adj)\n",
        "\n",
        "    Hidden_Feature = self.Attention_Network1(Hidden_Feature,self.Adj_out,False)\n",
        "    Hidden_Feature = self.GraphConv1 (Hidden_Feature,self.Adj_out,False)\n",
        "    Hidden_Feature = Hidden_Feature.reshape(-1, Hidden_Feature.shape[0]*Hidden_Feature.shape[1])\n",
        "    Hidden_Feature = self.fc1(Hidden_Feature)\n",
        "    Hidden_Feature = F.dropout(Hidden_Feature, self.dropout, training=self.training)\n",
        "    Hidden_Feature = F.elu(Hidden_Feature)\n",
        "    Hidden_Feature = self.fc2(Hidden_Feature)\n",
        "    Hidden_Feature = self.sigmoid((Hidden_Feature))\n",
        "    return Hidden_Feature\n",
        "\n",
        "  def Feature_Vector(self,Signal,M):\n",
        "    num_channels, sequence_length = Signal.size()\n",
        "    Signal = Signal.float()\n",
        "    elu = nn.ELU()\n",
        "    Final_conv = []\n",
        "    for ch in range(num_channels):\n",
        "      Conv = []\n",
        "      for m in range(2,M):\n",
        "        d = torch.nn.Conv1d(1,1,m,bias=False, padding='same')\n",
        "        c = d(Signal[ch].unsqueeze(0))\n",
        "        Conv.append(elu(c.squeeze()))\n",
        "      Final_conv.append(torch.stack(Conv))\n",
        "    Final_conv = torch.stack(Final_conv)\n",
        "    #Conv = Conv.T\n",
        "    Final_conv = Final_conv.view(num_channels,sequence_length, -1)\n",
        "    #Conv = torch.vstack((Conv,torch.ones(len(Signal)-len(Conv),len(Signal))))\n",
        "    return Final_conv\n",
        "\n",
        "  def Adjacency_Matrix (self, Signal,M):\n",
        "    num_channels, sequence_length = Signal.size()\n",
        "    Adj = torch.zeros(len(Signal[-1]),len(Signal[-1]))\n",
        "    Adjacency = []\n",
        "    for ch in range(num_channels):\n",
        "      for m in range(M):\n",
        "        b = torch.diagonal(Adj,m)\n",
        "        b1 = torch.diagonal(Adj,-m)\n",
        "        b.fill_(1)\n",
        "        b1.fill_(1)\n",
        "      b = torch.diagonal(Adj,0)\n",
        "      b.fill_(0)\n",
        "      Adjacency.append(Adj)\n",
        "    Adjacency = torch.stack(Adjacency)\n",
        "    return Adjacency\n",
        "\n",
        "Model = MainModel(110,108,1280,150,200,50,1,2,0.25,0.2,3)\n",
        "#y = Model(dd)\n",
        "#print(y.shape)\n",
        "#print(y)"
      ],
      "metadata": {
        "id": "3gKxGPDAfUGB"
      },
      "execution_count": null,
      "outputs": []
    },
    {
      "cell_type": "markdown",
      "source": [
        "### Training Loop"
      ],
      "metadata": {
        "id": "Gxwt3XTNtciD"
      }
    },
    {
      "cell_type": "code",
      "source": [
        "from google.colab import drive\n",
        "drive.mount('/content/drive')"
      ],
      "metadata": {
        "colab": {
          "base_uri": "https://localhost:8080/"
        },
        "id": "tYdiesniu4IO",
        "outputId": "2db7e967-6974-41c0-9de8-a356394f9a09"
      },
      "execution_count": null,
      "outputs": [
        {
          "output_type": "stream",
          "name": "stdout",
          "text": [
            "Drive already mounted at /content/drive; to attempt to forcibly remount, call drive.mount(\"/content/drive\", force_remount=True).\n"
          ]
        }
      ]
    },
    {
      "cell_type": "code",
      "source": [
        "loss_fn = nn.BCELoss()  # binary cross entropy\n",
        "optimizer = torch.optim.Adam(model.parameters(), lr=0.0001)\n",
        "\n",
        "# Dataset class for loading interictal and preictal data\n",
        "class EpilepsyDataset(Dataset):\n",
        "    def __init__(self, dataset_dir):\n",
        "        self.interictal_dir = os.path.join(dataset_dir, \"interictal\")\n",
        "        self.preictal_dir = os.path.join(dataset_dir, \"PreIctal augmented data\")\n",
        "        self.interictal_files = os.listdir(self.interictal_dir)\n",
        "        self.preictal_files = os.listdir(self.preictal_dir)\n",
        "\n",
        "    def __getitem__(self, index):\n",
        "\n",
        "        if index % 2 == 0:\n",
        "            file_path = os.path.join(self.interictal_dir, self.interictal_files[index // 2])\n",
        "            label = 0.0\n",
        "        else:\n",
        "\n",
        "            file_path = os.path.join(self.preictal_dir, self.preictal_files[index // 2])\n",
        "            label = 1.0\n",
        "        #waveform = torchaudio.load(file_path)\n",
        "\n",
        "        annots = loadmat(file_path)\n",
        "        a = annots['Final_signal']\n",
        "        waveform = torch.from_numpy(a)\n",
        "\n",
        "        return waveform, label\n",
        "\n",
        "    def __len__(self):\n",
        "        return 2* min(len(self.interictal_files), len(self.preictal_files))\n",
        "\n",
        "# Directory path where the datasets are located\n",
        "dataset_dir = \"/content/drive/MyDrive/Data/Dataset_Epilepsy\"\n",
        "\n",
        "# Create the dataset\n",
        "dataset = EpilepsyDataset(dataset_dir)\n",
        "#print((dataset[0][1]))\n",
        "\n",
        "num_epochs = 20\n",
        "Window = 1280\n",
        "Model = MainModel(110,108,1280,150,200,50,1,2,0.25,0.2,3)\n",
        "# Training loop with tqdm and leave-one-out strategy\n",
        "for leave_out_index in tqdm(range(len(dataset))):\n",
        "    # Create the train and validation sets for the leave-one-out strategy\n",
        "    train_dataset = torch.utils.data.Subset(dataset, list(range(leave_out_index)) + list(range(leave_out_index + 1, len(dataset))))\n",
        "    val_dataset = torch.utils.data.Subset(dataset, [leave_out_index])\n",
        "\n",
        "    # Create data loaders for train and validation sets\n",
        "    train_loader = DataLoader(train_dataset, batch_size=1, shuffle=True)\n",
        "    val_loader = DataLoader(val_dataset, batch_size=1)\n",
        "\n",
        "    # Perform training and validation for this leave-out fold\n",
        "    for epoch in range(num_epochs):\n",
        "        # Training loop\n",
        "        for signals, labels in train_loader:\n",
        "            y_batch = labels\n",
        "            signals = signals.squeeze(0)[:,:-1]\n",
        "            for start in range(int(len(signals[1])/Window)):\n",
        "              # take a batch\n",
        "              X_batch = signals[:,start*Window:start*Window+Window]\n",
        "              # forward pass\n",
        "              y_pred = Model(X_batch)\n",
        "              loss = loss_fn(y_pred.squeeze(0), y_batch.float())\n",
        "\n",
        "              # backward pass\n",
        "              optimizer.zero_grad()\n",
        "              loss.backward()\n",
        "              # update weights\n",
        "              optimizer.step()\n",
        "              # print progress\n",
        "              acc = (y_pred.round() == y_batch).float().mean()\n",
        "              print(acc)\n",
        "        # Validation loop\n",
        "        for signals, labels in val_loader:\n",
        "            # Perform validation steps\n",
        "            y_batch = labels\n",
        "            signals = signals[:,-1]\n",
        "            for start in len(signals)/Window:\n",
        "              # take a batch\n",
        "              X_batch = signals[start*Window:start*Window+Window]\n",
        "              # forward pass\n",
        "              y_pred = Model(X_batch)\n",
        "              loss = loss_fn(y_pred, y_batch)\n"
      ],
      "metadata": {
        "colab": {
          "base_uri": "https://localhost:8080/",
          "height": 1000
        },
        "id": "bVUqSGHu57W2",
        "outputId": "ee48f32b-cd33-4941-8eca-cb66504cb6b0"
      },
      "execution_count": null,
      "outputs": [
        {
          "output_type": "stream",
          "name": "stderr",
          "text": [
            "\r  0%|          | 0/44 [00:00<?, ?it/s]"
          ]
        },
        {
          "output_type": "stream",
          "name": "stdout",
          "text": [
            "tensor(0.)\n",
            "tensor(0.)\n",
            "tensor(0.)\n",
            "tensor(0.)\n",
            "tensor(1.)\n",
            "tensor(0.)\n",
            "tensor(1.)\n",
            "tensor(1.)\n",
            "tensor(1.)\n",
            "tensor(1.)\n",
            "tensor(1.)\n",
            "tensor(0.)\n",
            "tensor(1.)\n",
            "tensor(0.)\n",
            "tensor(0.)\n",
            "tensor(0.)\n",
            "tensor(0.)\n",
            "tensor(1.)\n",
            "tensor(0.)\n",
            "tensor(1.)\n",
            "tensor(1.)\n",
            "tensor(0.)\n",
            "tensor(0.)\n",
            "tensor(0.)\n",
            "tensor(0.)\n",
            "tensor(1.)\n",
            "tensor(0.)\n",
            "tensor(0.)\n",
            "tensor(1.)\n",
            "tensor(0.)\n",
            "tensor(0.)\n",
            "tensor(0.)\n",
            "tensor(1.)\n",
            "tensor(0.)\n",
            "tensor(1.)\n",
            "tensor(1.)\n",
            "tensor(1.)\n",
            "tensor(0.)\n",
            "tensor(1.)\n",
            "tensor(1.)\n",
            "tensor(0.)\n",
            "tensor(1.)\n",
            "tensor(1.)\n",
            "tensor(0.)\n",
            "tensor(1.)\n",
            "tensor(0.)\n",
            "tensor(1.)\n",
            "tensor(0.)\n",
            "tensor(0.)\n",
            "tensor(0.)\n",
            "tensor(1.)\n",
            "tensor(0.)\n",
            "tensor(0.)\n",
            "tensor(1.)\n",
            "tensor(1.)\n",
            "tensor(0.)\n",
            "tensor(0.)\n",
            "tensor(0.)\n",
            "tensor(0.)\n",
            "tensor(0.)\n",
            "tensor(0.)\n"
          ]
        },
        {
          "output_type": "stream",
          "name": "stderr",
          "text": [
            "\r  0%|          | 0/44 [03:05<?, ?it/s]"
          ]
        },
        {
          "output_type": "stream",
          "name": "stdout",
          "text": [
            "tensor(0.)\n"
          ]
        },
        {
          "output_type": "stream",
          "name": "stderr",
          "text": [
            "\n"
          ]
        },
        {
          "output_type": "error",
          "ename": "KeyboardInterrupt",
          "evalue": "ignored",
          "traceback": [
            "\u001b[0;31m---------------------------------------------------------------------------\u001b[0m",
            "\u001b[0;31mKeyboardInterrupt\u001b[0m                         Traceback (most recent call last)",
            "\u001b[0;32m<ipython-input-12-e5aeded42298>\u001b[0m in \u001b[0;36m<cell line: 43>\u001b[0;34m()\u001b[0m\n\u001b[1;32m     60\u001b[0m               \u001b[0mX_batch\u001b[0m \u001b[0;34m=\u001b[0m \u001b[0msignals\u001b[0m\u001b[0;34m[\u001b[0m\u001b[0;34m:\u001b[0m\u001b[0;34m,\u001b[0m\u001b[0mstart\u001b[0m\u001b[0;34m*\u001b[0m\u001b[0mWindow\u001b[0m\u001b[0;34m:\u001b[0m\u001b[0mstart\u001b[0m\u001b[0;34m*\u001b[0m\u001b[0mWindow\u001b[0m\u001b[0;34m+\u001b[0m\u001b[0mWindow\u001b[0m\u001b[0;34m]\u001b[0m\u001b[0;34m\u001b[0m\u001b[0;34m\u001b[0m\u001b[0m\n\u001b[1;32m     61\u001b[0m               \u001b[0;31m# forward pass\u001b[0m\u001b[0;34m\u001b[0m\u001b[0;34m\u001b[0m\u001b[0m\n\u001b[0;32m---> 62\u001b[0;31m               \u001b[0my_pred\u001b[0m \u001b[0;34m=\u001b[0m \u001b[0mModel\u001b[0m\u001b[0;34m(\u001b[0m\u001b[0mX_batch\u001b[0m\u001b[0;34m)\u001b[0m\u001b[0;34m\u001b[0m\u001b[0;34m\u001b[0m\u001b[0m\n\u001b[0m\u001b[1;32m     63\u001b[0m               \u001b[0mloss\u001b[0m \u001b[0;34m=\u001b[0m \u001b[0mloss_fn\u001b[0m\u001b[0;34m(\u001b[0m\u001b[0my_pred\u001b[0m\u001b[0;34m.\u001b[0m\u001b[0msqueeze\u001b[0m\u001b[0;34m(\u001b[0m\u001b[0;36m0\u001b[0m\u001b[0;34m)\u001b[0m\u001b[0;34m,\u001b[0m \u001b[0my_batch\u001b[0m\u001b[0;34m.\u001b[0m\u001b[0mfloat\u001b[0m\u001b[0;34m(\u001b[0m\u001b[0;34m)\u001b[0m\u001b[0;34m)\u001b[0m\u001b[0;34m\u001b[0m\u001b[0;34m\u001b[0m\u001b[0m\n\u001b[1;32m     64\u001b[0m \u001b[0;34m\u001b[0m\u001b[0m\n",
            "\u001b[0;32m/usr/local/lib/python3.10/dist-packages/torch/nn/modules/module.py\u001b[0m in \u001b[0;36m_call_impl\u001b[0;34m(self, *args, **kwargs)\u001b[0m\n\u001b[1;32m   1499\u001b[0m                 \u001b[0;32mor\u001b[0m \u001b[0m_global_backward_pre_hooks\u001b[0m \u001b[0;32mor\u001b[0m \u001b[0m_global_backward_hooks\u001b[0m\u001b[0;34m\u001b[0m\u001b[0;34m\u001b[0m\u001b[0m\n\u001b[1;32m   1500\u001b[0m                 or _global_forward_hooks or _global_forward_pre_hooks):\n\u001b[0;32m-> 1501\u001b[0;31m             \u001b[0;32mreturn\u001b[0m \u001b[0mforward_call\u001b[0m\u001b[0;34m(\u001b[0m\u001b[0;34m*\u001b[0m\u001b[0margs\u001b[0m\u001b[0;34m,\u001b[0m \u001b[0;34m**\u001b[0m\u001b[0mkwargs\u001b[0m\u001b[0;34m)\u001b[0m\u001b[0;34m\u001b[0m\u001b[0;34m\u001b[0m\u001b[0m\n\u001b[0m\u001b[1;32m   1502\u001b[0m         \u001b[0;31m# Do not call functions when jit is used\u001b[0m\u001b[0;34m\u001b[0m\u001b[0;34m\u001b[0m\u001b[0m\n\u001b[1;32m   1503\u001b[0m         \u001b[0mfull_backward_hooks\u001b[0m\u001b[0;34m,\u001b[0m \u001b[0mnon_full_backward_hooks\u001b[0m \u001b[0;34m=\u001b[0m \u001b[0;34m[\u001b[0m\u001b[0;34m]\u001b[0m\u001b[0;34m,\u001b[0m \u001b[0;34m[\u001b[0m\u001b[0;34m]\u001b[0m\u001b[0;34m\u001b[0m\u001b[0;34m\u001b[0m\u001b[0m\n",
            "\u001b[0;32m<ipython-input-3-bfbcbe147bb8>\u001b[0m in \u001b[0;36mforward\u001b[0;34m(self, x)\u001b[0m\n\u001b[1;32m     27\u001b[0m   \u001b[0;32mdef\u001b[0m \u001b[0mforward\u001b[0m\u001b[0;34m(\u001b[0m\u001b[0mself\u001b[0m\u001b[0;34m,\u001b[0m\u001b[0mx\u001b[0m\u001b[0;34m)\u001b[0m\u001b[0;34m:\u001b[0m\u001b[0;34m\u001b[0m\u001b[0;34m\u001b[0m\u001b[0m\n\u001b[1;32m     28\u001b[0m \u001b[0;34m\u001b[0m\u001b[0m\n\u001b[0;32m---> 29\u001b[0;31m     \u001b[0mFeat_Vector\u001b[0m \u001b[0;34m=\u001b[0m \u001b[0mself\u001b[0m\u001b[0;34m.\u001b[0m\u001b[0mFeature_Vector\u001b[0m\u001b[0;34m(\u001b[0m\u001b[0mx\u001b[0m\u001b[0;34m,\u001b[0m\u001b[0mself\u001b[0m\u001b[0;34m.\u001b[0m \u001b[0mM\u001b[0m\u001b[0;34m)\u001b[0m\u001b[0;34m\u001b[0m\u001b[0;34m\u001b[0m\u001b[0m\n\u001b[0m\u001b[1;32m     30\u001b[0m     \u001b[0mAdj\u001b[0m \u001b[0;34m=\u001b[0m \u001b[0mself\u001b[0m\u001b[0;34m.\u001b[0m\u001b[0mAdjacency_Matrix\u001b[0m\u001b[0;34m(\u001b[0m\u001b[0mx\u001b[0m\u001b[0;34m,\u001b[0m\u001b[0mself\u001b[0m\u001b[0;34m.\u001b[0m\u001b[0mM\u001b[0m\u001b[0;34m)\u001b[0m\u001b[0;34m\u001b[0m\u001b[0;34m\u001b[0m\u001b[0m\n\u001b[1;32m     31\u001b[0m     \u001b[0mHidden_Feature\u001b[0m \u001b[0;34m=\u001b[0m \u001b[0mself\u001b[0m\u001b[0;34m.\u001b[0m\u001b[0mAttention_Network\u001b[0m\u001b[0;34m(\u001b[0m\u001b[0mFeat_Vector\u001b[0m\u001b[0;34m,\u001b[0m\u001b[0mAdj\u001b[0m\u001b[0;34m)\u001b[0m\u001b[0;34m\u001b[0m\u001b[0;34m\u001b[0m\u001b[0m\n",
            "\u001b[0;32m<ipython-input-3-bfbcbe147bb8>\u001b[0m in \u001b[0;36mFeature_Vector\u001b[0;34m(self, Signal, M)\u001b[0m\n\u001b[1;32m     51\u001b[0m       \u001b[0;32mfor\u001b[0m \u001b[0mm\u001b[0m \u001b[0;32min\u001b[0m \u001b[0mrange\u001b[0m\u001b[0;34m(\u001b[0m\u001b[0;36m2\u001b[0m\u001b[0;34m,\u001b[0m\u001b[0mM\u001b[0m\u001b[0;34m)\u001b[0m\u001b[0;34m:\u001b[0m\u001b[0;34m\u001b[0m\u001b[0;34m\u001b[0m\u001b[0m\n\u001b[1;32m     52\u001b[0m         \u001b[0md\u001b[0m \u001b[0;34m=\u001b[0m \u001b[0mtorch\u001b[0m\u001b[0;34m.\u001b[0m\u001b[0mnn\u001b[0m\u001b[0;34m.\u001b[0m\u001b[0mConv1d\u001b[0m\u001b[0;34m(\u001b[0m\u001b[0;36m1\u001b[0m\u001b[0;34m,\u001b[0m\u001b[0;36m1\u001b[0m\u001b[0;34m,\u001b[0m\u001b[0mm\u001b[0m\u001b[0;34m,\u001b[0m\u001b[0mbias\u001b[0m\u001b[0;34m=\u001b[0m\u001b[0;32mFalse\u001b[0m\u001b[0;34m,\u001b[0m \u001b[0mpadding\u001b[0m\u001b[0;34m=\u001b[0m\u001b[0;34m'same'\u001b[0m\u001b[0;34m)\u001b[0m\u001b[0;34m\u001b[0m\u001b[0;34m\u001b[0m\u001b[0m\n\u001b[0;32m---> 53\u001b[0;31m         \u001b[0mc\u001b[0m \u001b[0;34m=\u001b[0m \u001b[0md\u001b[0m\u001b[0;34m(\u001b[0m\u001b[0mSignal\u001b[0m\u001b[0;34m[\u001b[0m\u001b[0mch\u001b[0m\u001b[0;34m]\u001b[0m\u001b[0;34m.\u001b[0m\u001b[0munsqueeze\u001b[0m\u001b[0;34m(\u001b[0m\u001b[0;36m0\u001b[0m\u001b[0;34m)\u001b[0m\u001b[0;34m)\u001b[0m\u001b[0;34m\u001b[0m\u001b[0;34m\u001b[0m\u001b[0m\n\u001b[0m\u001b[1;32m     54\u001b[0m         \u001b[0mConv\u001b[0m\u001b[0;34m.\u001b[0m\u001b[0mappend\u001b[0m\u001b[0;34m(\u001b[0m\u001b[0melu\u001b[0m\u001b[0;34m(\u001b[0m\u001b[0mc\u001b[0m\u001b[0;34m.\u001b[0m\u001b[0msqueeze\u001b[0m\u001b[0;34m(\u001b[0m\u001b[0;34m)\u001b[0m\u001b[0;34m)\u001b[0m\u001b[0;34m)\u001b[0m\u001b[0;34m\u001b[0m\u001b[0;34m\u001b[0m\u001b[0m\n\u001b[1;32m     55\u001b[0m       \u001b[0mFinal_conv\u001b[0m\u001b[0;34m.\u001b[0m\u001b[0mappend\u001b[0m\u001b[0;34m(\u001b[0m\u001b[0mtorch\u001b[0m\u001b[0;34m.\u001b[0m\u001b[0mstack\u001b[0m\u001b[0;34m(\u001b[0m\u001b[0mConv\u001b[0m\u001b[0;34m)\u001b[0m\u001b[0;34m)\u001b[0m\u001b[0;34m\u001b[0m\u001b[0;34m\u001b[0m\u001b[0m\n",
            "\u001b[0;32m/usr/local/lib/python3.10/dist-packages/torch/nn/modules/module.py\u001b[0m in \u001b[0;36m_call_impl\u001b[0;34m(self, *args, **kwargs)\u001b[0m\n\u001b[1;32m   1499\u001b[0m                 \u001b[0;32mor\u001b[0m \u001b[0m_global_backward_pre_hooks\u001b[0m \u001b[0;32mor\u001b[0m \u001b[0m_global_backward_hooks\u001b[0m\u001b[0;34m\u001b[0m\u001b[0;34m\u001b[0m\u001b[0m\n\u001b[1;32m   1500\u001b[0m                 or _global_forward_hooks or _global_forward_pre_hooks):\n\u001b[0;32m-> 1501\u001b[0;31m             \u001b[0;32mreturn\u001b[0m \u001b[0mforward_call\u001b[0m\u001b[0;34m(\u001b[0m\u001b[0;34m*\u001b[0m\u001b[0margs\u001b[0m\u001b[0;34m,\u001b[0m \u001b[0;34m**\u001b[0m\u001b[0mkwargs\u001b[0m\u001b[0;34m)\u001b[0m\u001b[0;34m\u001b[0m\u001b[0;34m\u001b[0m\u001b[0m\n\u001b[0m\u001b[1;32m   1502\u001b[0m         \u001b[0;31m# Do not call functions when jit is used\u001b[0m\u001b[0;34m\u001b[0m\u001b[0;34m\u001b[0m\u001b[0m\n\u001b[1;32m   1503\u001b[0m         \u001b[0mfull_backward_hooks\u001b[0m\u001b[0;34m,\u001b[0m \u001b[0mnon_full_backward_hooks\u001b[0m \u001b[0;34m=\u001b[0m \u001b[0;34m[\u001b[0m\u001b[0;34m]\u001b[0m\u001b[0;34m,\u001b[0m \u001b[0;34m[\u001b[0m\u001b[0;34m]\u001b[0m\u001b[0;34m\u001b[0m\u001b[0;34m\u001b[0m\u001b[0m\n",
            "\u001b[0;32m/usr/local/lib/python3.10/dist-packages/torch/nn/modules/conv.py\u001b[0m in \u001b[0;36mforward\u001b[0;34m(self, input)\u001b[0m\n\u001b[1;32m    311\u001b[0m \u001b[0;34m\u001b[0m\u001b[0m\n\u001b[1;32m    312\u001b[0m     \u001b[0;32mdef\u001b[0m \u001b[0mforward\u001b[0m\u001b[0;34m(\u001b[0m\u001b[0mself\u001b[0m\u001b[0;34m,\u001b[0m \u001b[0minput\u001b[0m\u001b[0;34m:\u001b[0m \u001b[0mTensor\u001b[0m\u001b[0;34m)\u001b[0m \u001b[0;34m->\u001b[0m \u001b[0mTensor\u001b[0m\u001b[0;34m:\u001b[0m\u001b[0;34m\u001b[0m\u001b[0;34m\u001b[0m\u001b[0m\n\u001b[0;32m--> 313\u001b[0;31m         \u001b[0;32mreturn\u001b[0m \u001b[0mself\u001b[0m\u001b[0;34m.\u001b[0m\u001b[0m_conv_forward\u001b[0m\u001b[0;34m(\u001b[0m\u001b[0minput\u001b[0m\u001b[0;34m,\u001b[0m \u001b[0mself\u001b[0m\u001b[0;34m.\u001b[0m\u001b[0mweight\u001b[0m\u001b[0;34m,\u001b[0m \u001b[0mself\u001b[0m\u001b[0;34m.\u001b[0m\u001b[0mbias\u001b[0m\u001b[0;34m)\u001b[0m\u001b[0;34m\u001b[0m\u001b[0;34m\u001b[0m\u001b[0m\n\u001b[0m\u001b[1;32m    314\u001b[0m \u001b[0;34m\u001b[0m\u001b[0m\n\u001b[1;32m    315\u001b[0m \u001b[0;34m\u001b[0m\u001b[0m\n",
            "\u001b[0;32m/usr/local/lib/python3.10/dist-packages/torch/nn/modules/conv.py\u001b[0m in \u001b[0;36m_conv_forward\u001b[0;34m(self, input, weight, bias)\u001b[0m\n\u001b[1;32m    307\u001b[0m                             \u001b[0mweight\u001b[0m\u001b[0;34m,\u001b[0m \u001b[0mbias\u001b[0m\u001b[0;34m,\u001b[0m \u001b[0mself\u001b[0m\u001b[0;34m.\u001b[0m\u001b[0mstride\u001b[0m\u001b[0;34m,\u001b[0m\u001b[0;34m\u001b[0m\u001b[0;34m\u001b[0m\u001b[0m\n\u001b[1;32m    308\u001b[0m                             _single(0), self.dilation, self.groups)\n\u001b[0;32m--> 309\u001b[0;31m         return F.conv1d(input, weight, bias, self.stride,\n\u001b[0m\u001b[1;32m    310\u001b[0m                         self.padding, self.dilation, self.groups)\n\u001b[1;32m    311\u001b[0m \u001b[0;34m\u001b[0m\u001b[0m\n",
            "\u001b[0;31mKeyboardInterrupt\u001b[0m: "
          ]
        }
      ]
    },
    {
      "cell_type": "code",
      "source": [
        "'''\n",
        "for i,(signals, labels) in enumerate(train_loader):\n",
        "        if i==1:\n",
        "          break\n",
        "        y_batch = labels\n",
        "        print(y_batch)\n",
        "        signals = signals.squeeze()[:,:-1]\n",
        "        print(signals.shape)\n",
        "        print(len(signals[1]))\n",
        "        print(range(int(len(signals[1])/Window)))\n",
        "'''\n",
        "y_pred.squeeze(0).type()\n",
        "y_batch.float().type()"
      ],
      "metadata": {
        "colab": {
          "base_uri": "https://localhost:8080/",
          "height": 35
        },
        "id": "p646YpKNObZQ",
        "outputId": "e245e4a0-2e8d-4577-fe9c-c5b774c4ada4"
      },
      "execution_count": null,
      "outputs": [
        {
          "output_type": "execute_result",
          "data": {
            "text/plain": [
              "'torch.FloatTensor'"
            ],
            "application/vnd.google.colaboratory.intrinsic+json": {
              "type": "string"
            }
          },
          "metadata": {},
          "execution_count": 10
        }
      ]
    },
    {
      "cell_type": "code",
      "source": [
        "\n",
        "\n",
        "file = '/content/drive/MyDrive/Data/Dataset_Epilepsy/PreIctal augmented data/Augmentation Pa1_1.mat'\n",
        "#file = '/content/drive/MyDrive/Data/Dataset_Epilepsy/interictal/InterIctal_Pa1_part10_0_30min.mat'\n",
        "\n",
        "annots = loadmat(file)\n",
        "'''\n",
        "a = annots['InterIctal']\n",
        "b = torch.from_numpy(a)\n",
        "b.shape\n",
        "c = b[:,-1]\n",
        "d = b[:,:-1]\n",
        "dd = d[:,0:1280]\n",
        "'''\n",
        "annots"
      ],
      "metadata": {
        "id": "Bn8eGNXPukdp",
        "colab": {
          "base_uri": "https://localhost:8080/"
        },
        "outputId": "7d40a4b1-b524-4db2-f9fa-340444246106"
      },
      "execution_count": null,
      "outputs": [
        {
          "output_type": "execute_result",
          "data": {
            "text/plain": [
              "{'__header__': b'MATLAB 5.0 MAT-file, Platform: PCWIN64, Created on: Tue May 16 14:54:06 2023',\n",
              " '__version__': '1.0',\n",
              " '__globals__': [],\n",
              " 'Final_signal': array([[ -5.94925364,  -6.81979048,  -7.41487294, ...,  11.89521258,\n",
              "          15.45751214,   1.        ],\n",
              "        [ -4.68723957,  -4.16990277,  -3.73386164, ...,  18.56823534,\n",
              "          20.76258552,   1.        ],\n",
              "        [-12.51835789, -14.12630837, -15.43340233, ...,   6.89637791,\n",
              "           1.05307942,   1.        ],\n",
              "        ...,\n",
              "        [ 28.57546115,  15.48532258,   0.03303625, ..., -15.01654001,\n",
              "         -17.81724211,   1.        ],\n",
              "        [  5.67399516,   1.82359235,  -1.85909493, ...,  -1.62286958,\n",
              "          -4.1785475 ,   1.        ],\n",
              "        [  7.79192354,   8.13253979,   8.14413875, ...,   5.50195295,\n",
              "           1.78019704,   1.        ]])}"
            ]
          },
          "metadata": {},
          "execution_count": 21
        }
      ]
    },
    {
      "cell_type": "code",
      "source": [
        "def Feature_Vector(Signal,M):\n",
        "  num_channels, sequence_length = Signal.size()\n",
        "  Signal = Signal.float()\n",
        "  elu = nn.ELU()\n",
        "  Final_conv = []\n",
        "  for ch in range(num_channels):\n",
        "    Conv = []\n",
        "    for m in range(2,M):\n",
        "      d = torch.nn.Conv1d(1,1,m,bias=False, padding='same')\n",
        "      c = d(Signal[ch].unsqueeze(0))\n",
        "      Conv.append(elu(c.squeeze()))\n",
        "    Final_conv.append(torch.stack(Conv))\n",
        "  Final_conv = torch.stack(Final_conv)\n",
        "  #Conv = Conv.T\n",
        "  Final_conv = Final_conv.view(num_channels,sequence_length, -1)\n",
        "  #Conv = torch.vstack((Conv,torch.ones(len(Signal)-len(Conv),len(Signal))))\n",
        "  return Final_conv\n",
        "\n",
        "def Adjacency_Matrix (Signal,M):\n",
        "  num_channels, sequence_length = Signal.size()\n",
        "  Adj = torch.zeros(len(Signal[-1]),len(Signal[-1]))\n",
        "  Adjacency = []\n",
        "  for ch in range(num_channels):\n",
        "    for m in range(M):\n",
        "      b = torch.diagonal(Adj,m)\n",
        "      b1 = torch.diagonal(Adj,-m)\n",
        "      b.fill_(1)\n",
        "      b1.fill_(1)\n",
        "    b = torch.diagonal(Adj,0)\n",
        "    b.fill_(0)\n",
        "    Adjacency.append(Adj)\n",
        "  Adjacency = torch.stack(Adjacency)\n",
        "  return Adjacency\n",
        "\n",
        "\n",
        "X = Feature_Vector (dd,110)\n",
        "adj = Adjacency_Matrix (dd,110)\n",
        "print('Feature Size',X.shape)\n",
        "print('Adjacensy Matrix',adj.shape)"
      ],
      "metadata": {
        "colab": {
          "base_uri": "https://localhost:8080/"
        },
        "id": "fuQeLuoBs1Rj",
        "outputId": "f1b13c48-95fa-466e-e290-aabc375630a2"
      },
      "execution_count": null,
      "outputs": [
        {
          "output_type": "stream",
          "name": "stdout",
          "text": [
            "Feature Size torch.Size([18, 1280, 108])\n",
            "Adjacensy Matrix torch.Size([18, 1280, 1280])\n"
          ]
        }
      ]
    },
    {
      "cell_type": "code",
      "source": [
        "import matplotlib.pyplot as plt\n",
        "c = adj[0]@X[0]\n",
        "plt.plot(c[:,0].detach().numpy())"
      ],
      "metadata": {
        "colab": {
          "base_uri": "https://localhost:8080/",
          "height": 448
        },
        "id": "wBj9p0wghGB0",
        "outputId": "b3f08d22-76ae-4a41-ae78-5b694725dc9a"
      },
      "execution_count": null,
      "outputs": [
        {
          "output_type": "execute_result",
          "data": {
            "text/plain": [
              "[<matplotlib.lines.Line2D at 0x7f89bd3193c0>]"
            ]
          },
          "metadata": {},
          "execution_count": 10
        },
        {
          "output_type": "display_data",
          "data": {
            "text/plain": [
              "<Figure size 640x480 with 1 Axes>"
            ],
            "image/png": "[encoded data removed]"
          },
          "metadata": {}
        }
      ]
    },
    {
      "cell_type": "code",
      "source": [],
      "metadata": {
        "id": "E0ufGBfkR97q"
      },
      "execution_count": null,
      "outputs": []
    }
  ]
}